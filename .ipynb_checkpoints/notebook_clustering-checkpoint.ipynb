{
 "cells": [
  {
   "cell_type": "markdown",
   "metadata": {},
   "source": []
  },
  {
   "cell_type": "code",
   "execution_count": null,
   "metadata": {},
   "outputs": [],
   "source": [
    "from sklearn import cluster\n",
    "from scipy.io import arff\n",
    "from sklearn import metrics\n",
    "import matplotlib.pyplot as plt\n",
    "import matplotlib.pylab as pyl\n",
    "import time\n",
    "import random"
   ]
  },
  {
   "cell_type": "code",
   "execution_count": null,
   "metadata": {},
   "outputs": [],
   "source": [
    "fileTestName = \"3-spiral.arff\"\n",
    "\n",
    "#colors = ['r','b','y','g', 'lime', 'bisque', 'lightcoral', 'mediumturquoise', 'sandybrown', 'black']\n",
    "colors = [\"#\"+''.join([random.choice('0123456789ABCDEF') for j in range(6)])\n",
    "             for i in range(100)]\n",
    "\n",
    "nbClusters = 9\n",
    "\n",
    "def load_file(filepath):\n",
    "    return arff.loadarff(open(filepath, 'r'))\n",
    "\n",
    "data = load_file(\"./artificial/\"+fileTestName)[0]"
   ]
  },
  {
   "cell_type": "code",
   "execution_count": null,
   "metadata": {},
   "outputs": [],
   "source": [
    "new_data = []\n",
    "x_list = []\n",
    "y_list = []\n",
    "z_list = []\n",
    "for (x,y,z) in data : \n",
    "    new_data.append([x,y])\n",
    "    x_list.append(x)\n",
    "    y_list.append(y)\n",
    "    z_list.append(z)"
   ]
  },
  {
   "cell_type": "code",
   "execution_count": null,
   "metadata": {
    "scrolled": true
   },
   "outputs": [],
   "source": [
    "kmeans = cluster.KMeans(n_clusters=nbClusters, init='k-means++').fit(new_data)\n",
    "labels = kmeans.labels_"
   ]
  },
  {
   "cell_type": "code",
   "execution_count": null,
   "metadata": {},
   "outputs": [],
   "source": [
    "for (x,y,c) in zip(x_list, y_list, kmeans.labels_):\n",
    "    plt.plot(x, y,'o',color=colors[c])\n",
    "\n",
    "\n",
    "#plt.plot(x_list, y_list,'o',color=colors[indexColor])\n",
    "plt.show()"
   ]
  },
  {
   "cell_type": "code",
   "execution_count": null,
   "metadata": {},
   "outputs": [],
   "source": [
    "i_max = -1\n",
    "score_max = 0\n",
    "starttime = time.time()\n",
    "\n",
    "for i in range(2,3) :\n",
    "    data_temp = new_data;\n",
    "    kmeans = cluster.KMeans(n_clusters=i, init='k-means++').fit(data_temp)\n",
    "    labels = kmeans.labels_\n",
    "    score = metrics.silhouette_score(data_temp, labels, metric='euclidean')\n",
    "    if score > score_max :\n",
    "        i_max = i\n",
    "        score_max = score\n",
    "\n",
    "endtime = time.time()\n",
    "print(i_max, score_max)\n",
    "print(endtime - starttime)"
   ]
  },
  {
   "cell_type": "code",
   "execution_count": null,
   "metadata": {},
   "outputs": [],
   "source": [
    "def kMeans(fileTestName):\n",
    "    data = load_file(\"./artificial/\"+fileTestName)[0]\n",
    "    new_data = []\n",
    "    x_list = []\n",
    "    y_list = []\n",
    "    for (x,y,z) in data : \n",
    "        new_data.append([x,y])\n",
    "        x_list.append(x)\n",
    "        y_list.append(y)\n",
    "    i_max = 0\n",
    "    score_max = 0\n",
    "    starttime = time.time()\n",
    "\n",
    "    for i in range(2,100) :\n",
    "        data_temp = new_data;\n",
    "        kmeans = cluster.KMeans(n_clusters=i, init='k-means++').fit(data_temp)\n",
    "        labels = kmeans.labels_\n",
    "        score = metrics.silhouette_score(data_temp, labels, metric='euclidean')\n",
    "        if score > score_max :\n",
    "            i_max = i\n",
    "            score_max = score\n",
    "    endtime = time.time()\n",
    "    kmeans = cluster.KMeans(n_clusters=i_max, init='k-means++').fit(new_data)\n",
    "    labels = kmeans.labels_\n",
    "    for (x,y,c) in zip(x_list, y_list, kmeans.labels_):\n",
    "        plt.plot(x, y,'o',color=colors[c])\n",
    "    plt.show()\n",
    "    print(\"best cluster number : \",i_max, \" best score : \",score_max)\n",
    "    print(\"time execution : \",endtime - starttime)"
   ]
  },
  {
   "cell_type": "code",
   "execution_count": null,
   "metadata": {},
   "outputs": [],
   "source": [
    "kMeans(\"2d-10c.arff\")"
   ]
  },
  {
   "cell_type": "code",
   "execution_count": null,
   "metadata": {},
   "outputs": [],
   "source": [
    "kMeans(\"3-spiral.arff\")"
   ]
  },
  {
   "cell_type": "code",
   "execution_count": null,
   "metadata": {},
   "outputs": [],
   "source": [
    "kMeans(\"dartboard1.arff\")"
   ]
  },
  {
   "cell_type": "code",
   "execution_count": null,
   "metadata": {},
   "outputs": [],
   "source": [
    "def Agglomeratif(fileTestName,manieres):\n",
    "    data = load_file(\"./artificial/\"+fileTestName)[0]\n",
    "    new_data = []\n",
    "    x_list = []\n",
    "    y_list = []\n",
    "    for (x,y,z) in data : \n",
    "        new_data.append([x,y])\n",
    "        x_list.append(x)\n",
    "        y_list.append(y)\n",
    "    i_max = 0\n",
    "    score_max = 0\n",
    "    starttime = time.time()\n",
    "\n",
    "    for i in range(2,100) :\n",
    "        data_temp = new_data;\n",
    "        kmeans = cluster.AgglomerativeClustering(n_clusters=i).fit(data_temp)\n",
    "        labels = kmeans.labels_\n",
    "        score = metrics.silhouette_score(data_temp, labels, metric='euclidean')\n",
    "        if score > score_max :\n",
    "            i_max = i\n",
    "            score_max = score\n",
    "    endtime = time.time()\n",
    "    kmeans = cluster.KMeans(n_clusters=i_max, init='k-means++').fit(new_data)\n",
    "    labels = kmeans.labels_\n",
    "    for (x,y,c) in zip(x_list, y_list, kmeans.labels_):\n",
    "        plt.plot(x, y,'o',color=colors[c])\n",
    "    plt.show()\n",
    "    print(\"best cluster number : \",i_max, \" best score : \",score_max)\n",
    "    print(\"time execution : \",endtime - starttime)"
   ]
  },
  {
   "cell_type": "code",
   "execution_count": null,
   "metadata": {},
   "outputs": [],
   "source": []
  }
 ],
 "metadata": {
  "kernelspec": {
   "display_name": "Python 3",
   "language": "python",
   "name": "python3"
  },
  "language_info": {
   "codemirror_mode": {
    "name": "ipython",
    "version": 3
   },
   "file_extension": ".py",
   "mimetype": "text/x-python",
   "name": "python",
   "nbconvert_exporter": "python",
   "pygments_lexer": "ipython3",
   "version": "3.8.5"
  }
 },
 "nbformat": 4,
 "nbformat_minor": 5
}
